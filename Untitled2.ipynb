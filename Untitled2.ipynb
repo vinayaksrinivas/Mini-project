{
 "cells": [
  {
   "cell_type": "code",
   "execution_count": null,
   "id": "c73f844a",
   "metadata": {},
   "outputs": [],
   "source": [
    "# 1)\tWrite a program to find out the prime numbers."
   ]
  },
  {
   "cell_type": "code",
   "execution_count": 9,
   "id": "3d61513e",
   "metadata": {},
   "outputs": [
    {
     "name": "stdout",
     "output_type": "stream",
     "text": [
      "Enter a number:12\n",
      "Not a Prime number\n"
     ]
    }
   ],
   "source": [
    "a = int(input('Enter a number:'))\n",
    "count = 0\n",
    "if a==0 or a==1:\n",
    "    print(\"Not a Prime number\")\n",
    "else:\n",
    "    for i in range(2,a):\n",
    "        if a%i==0:\n",
    "            count+=1\n",
    "    if count==0:\n",
    "        print(\"Prime number\")\n",
    "    elif count>0:\n",
    "        print(\"Not a Prime number\")"
   ]
  },
  {
   "cell_type": "code",
   "execution_count": null,
   "id": "cdb29ec8",
   "metadata": {},
   "outputs": [],
   "source": [
    "# 2)\tWrite a program to create the equation (a+b+c) * (a-b-c) * ab + a^2 + b ^2 + (abc)^3 "
   ]
  },
  {
   "cell_type": "code",
   "execution_count": 11,
   "id": "e869903f",
   "metadata": {},
   "outputs": [
    {
     "name": "stdout",
     "output_type": "stream",
     "text": [
      "Enter a,b,c:1 1 1\n",
      "0.0\n"
     ]
    }
   ],
   "source": [
    "a,b,c= [float(x) for x in input('Enter a,b,c:').split()]\n",
    "print((a+b+c)*(a-b-c)*a*b+a**2+b**2+(a*b*c)**3)"
   ]
  },
  {
   "cell_type": "code",
   "execution_count": null,
   "id": "fe2c2807",
   "metadata": {},
   "outputs": [],
   "source": [
    "# 3)\turlist = ['wood','knife','axe'] , mylist = ['tree', 'apple', 'mango', 'melon'] – combine two lists"
   ]
  }
 ],
 "metadata": {
  "kernelspec": {
   "display_name": "Python 3 (ipykernel)",
   "language": "python",
   "name": "python3"
  },
  "language_info": {
   "codemirror_mode": {
    "name": "ipython",
    "version": 3
   },
   "file_extension": ".py",
   "mimetype": "text/x-python",
   "name": "python",
   "nbconvert_exporter": "python",
   "pygments_lexer": "ipython3",
   "version": "3.11.5"
  }
 },
 "nbformat": 4,
 "nbformat_minor": 5
}
